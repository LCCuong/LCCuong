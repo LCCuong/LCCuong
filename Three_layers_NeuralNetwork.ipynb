{
  "nbformat": 4,
  "nbformat_minor": 0,
  "metadata": {
    "colab": {
      "name": "Three_layers_NeuralNetwork.ipynb",
      "provenance": [],
      "collapsed_sections": [],
      "authorship_tag": "ABX9TyMEI7ZClqEghdE1uyoIFu5S",
      "include_colab_link": true
    },
    "kernelspec": {
      "name": "python3",
      "display_name": "Python 3"
    },
    "language_info": {
      "name": "python"
    }
  },
  "cells": [
    {
      "cell_type": "markdown",
      "metadata": {
        "id": "view-in-github",
        "colab_type": "text"
      },
      "source": [
        "<a href=\"https://colab.research.google.com/github/LCCuong/LCCuong/blob/gh-pages/Three_layers_NeuralNetwork.ipynb\" target=\"_parent\"><img src=\"https://colab.research.google.com/assets/colab-badge.svg\" alt=\"Open In Colab\"/></a>"
      ]
    },
    {
      "cell_type": "code",
      "execution_count": 263,
      "metadata": {
        "id": "459DO-poQmxe"
      },
      "outputs": [],
      "source": [
        "import numpy as np\n",
        "import matplotlib as plt\n",
        "np.random.seed()"
      ]
    },
    {
      "cell_type": "markdown",
      "source": [
        "# **Tạo các activation functions**"
      ],
      "metadata": {
        "id": "9Pdmreuov7rP"
      }
    },
    {
      "cell_type": "code",
      "source": [
        "\"\"\"\n",
        "def sigmoid(s):\n",
        "  return 1/(1+np.exp(-s))\n",
        "\n",
        "def d_sigmoid(s):\n",
        "  return sigmoid(s)*(1 - sigmoid(s))\n",
        "\n",
        "print(\"sigmoid(s) =\", sigmoid(np.asarray([3, 7, 8])))\n",
        "print(\"d_sigmoid(s) = \", d_sigmoid(np.asarray([3, 7, 8])))\n",
        "\"\"\""
      ],
      "metadata": {
        "colab": {
          "base_uri": "https://localhost:8080/",
          "height": 54
        },
        "id": "_eBdVnqceEnk",
        "outputId": "33afa3cf-f87b-4caa-85e8-4cf612784485"
      },
      "execution_count": 264,
      "outputs": [
        {
          "output_type": "execute_result",
          "data": {
            "text/plain": [
              "'\\ndef sigmoid(s):\\n  return 1/(1+np.exp(-s))\\n\\ndef d_sigmoid(s):\\n  return sigmoid(s)*(1 - sigmoid(s))\\n\\nprint(\"sigmoid(s) =\", sigmoid(np.asarray([3, 7, 8])))\\nprint(\"d_sigmoid(s) = \", d_sigmoid(np.asarray([3, 7, 8])))\\n'"
            ],
            "application/vnd.google.colaboratory.intrinsic+json": {
              "type": "string"
            }
          },
          "metadata": {},
          "execution_count": 264
        }
      ]
    },
    {
      "cell_type": "code",
      "source": [
        "def relu(s):\n",
        "  m = 0 + s\n",
        "  m[m < 0] = 0\n",
        "  return m\n",
        "\n",
        "def d_relu(s):\n",
        "  m = s + 0\n",
        "  m[m > 0] = 1\n",
        "  return m\n",
        "  "
      ],
      "metadata": {
        "id": "g2F-udcBm2Br"
      },
      "execution_count": 265,
      "outputs": []
    },
    {
      "cell_type": "code",
      "source": [
        "def softmax(s):\n",
        "  e_s = np.exp(s - np.max(s, axis = 1, keepdims = True))\n",
        "  result = e_s / e_s.sum(axis = 1, keepdims = True)\n",
        "  return result\n",
        "\n",
        "#print(softmax(np.asarray([3,5,-1])))"
      ],
      "metadata": {
        "id": "baJgKtC5p2nD"
      },
      "execution_count": 266,
      "outputs": []
    },
    {
      "cell_type": "code",
      "source": [
        "def cross_entropy_loss(Ypred, Y):\n",
        "  loss = np.asarray([np.sum(np.multiply(Y[i], np.log(Ypred[i] + 1e-9))) for i in range(Y.shape[0])]) # add 1e-9 to avoid calculate log(0)\n",
        "  return -np.mean(loss)"
      ],
      "metadata": {
        "id": "55vr4RMRCHRi"
      },
      "execution_count": 267,
      "outputs": []
    },
    {
      "cell_type": "markdown",
      "source": [
        "# **Tạo class Layer**"
      ],
      "metadata": {
        "id": "NdXtyiF78E2T"
      }
    },
    {
      "cell_type": "code",
      "source": [
        "class layer:\n",
        "  def __init__(self, input_size, output_size, activation = \"none\"):\n",
        "    self.input_size = input_size\n",
        "    self.output_size = output_size\n",
        "    if activation!=\"none\":\n",
        "      if activation == \"relu\":\n",
        "        self.activation = relu\n",
        "        self.derivative = d_relu\n",
        "      elif activation == \"softmax\":\n",
        "        self.activation = softmax\n",
        "      else:\n",
        "        raise ValueError('Activation not found')\n",
        "      # initialize layer's Weight with random values belong to [-1, 1]\n",
        "      self.W = np.random.randn(self.input_size, self.output_size)/np.sqrt(self.input_size*self.output_size) \n",
        "      #initialize layer's bias with all zero\n",
        "      self.b = 1.0*np.zeros((self.output_size), dtype = np.uint8) \n",
        "    else:\n",
        "      self.activation = \"none\"\n",
        "      if (input_size!=output_size):\n",
        "        raise ValueError('Input layer must have the same input_size and output_size')\n",
        "  def __call__(self, input):\n",
        "    if self.activation != \"none\": #if the layer is not Input Layer\n",
        "      self.z = np.dot(input, self.W) + self.b # z = Wx + b\n",
        "      self.a = self.activation(self.z) # a = f(x) where f is activation function\n",
        "      return self.a\n",
        "    else:\n",
        "      return input"
      ],
      "metadata": {
        "id": "1Xl7PMSNQ0_x"
      },
      "execution_count": 268,
      "outputs": []
    },
    {
      "cell_type": "code",
      "source": [
        "import math\n",
        "import random\n",
        "print(math.ceil(2.8))"
      ],
      "metadata": {
        "colab": {
          "base_uri": "https://localhost:8080/"
        },
        "id": "A4CA37Jf7Wmb",
        "outputId": "5483fa57-46e2-46ae-aaad-929fb77aac50"
      },
      "execution_count": 269,
      "outputs": [
        {
          "output_type": "stream",
          "name": "stdout",
          "text": [
            "3\n"
          ]
        }
      ]
    },
    {
      "cell_type": "markdown",
      "source": [
        "# **Tạo mạng neural 3 lớp**"
      ],
      "metadata": {
        "id": "JfVFEucKxnOi"
      }
    },
    {
      "cell_type": "code",
      "source": [
        "class Neural_network:\n",
        "  def __init__(self, *args):\n",
        "    self.Number_Of_Layers = len(args)\n",
        "    self.L = []\n",
        "    if len(args)!=3:\n",
        "      raise ValueError(f'Number of layers must be 3')\n",
        "    for arg in args:\n",
        "      if len(self.L)!=0:\n",
        "        if arg.input_size != self.L[len(self.L)-1].output_size:\n",
        "          raise ValueError(f'input_size of layer {len(self.L)} must equal to output_size of layer {len(self.L)-1}')\n",
        "      self.L.append(arg)\n",
        "##########################################################################################################################\n",
        "  def FeedForward(self, input):\n",
        "    x = input\n",
        "    for Layer in self.L:\n",
        "      x = Layer(x) # Calculate output = g2(g1(x))\n",
        "    return x\n",
        "##########################################################################################################################\n",
        "  def Backpropagation(self, X, Y):\n",
        "    E = (self.L[-1].a - Y)/(self.L[-1].a.shape[0]) # E2 = (A2-Y)/N\n",
        "    delta_W = []\n",
        "    d_W = np.dot(self.L[-2].a.T, E) # delta_W2 = A1.E2^T\n",
        "    delta_W.append(d_W)\n",
        "    delta_b = []\n",
        "    d_b = np.sum(E, axis = 0) # delta_b2 = sigma(e(2)_n)\n",
        "    delta_b.append(d_b)\n",
        "\n",
        "    E = np.multiply(np.dot(E, self.L[-1].W.T), self.L[-2].derivative(self.L[-2].z)) # E1 = (W2.E2) x f'(Z1)\n",
        "    d_W = np.dot(X.T, E) # delta_W1 = X.E1^T\n",
        "    delta_W.insert(0,d_W)\n",
        "    d_b = np.sum(E, axis = 0) # delta_b1 = sigma(e(1)_n)\n",
        "    delta_b.insert(0, d_b)\n",
        "\n",
        "    return delta_W, delta_b\n",
        "##########################################################################################################################\n",
        "  def lr_exp_decay(self, epoch, init_eta):\n",
        "      k = 0.1\n",
        "      return init_eta * math.exp(-k*epoch)\n",
        "##########################################################################################################################\n",
        "  def val(self, pred, truth):\n",
        "    pred_result = np.asarray([pred[i].argmax() for i in range(len(pred))])\n",
        "    truth_result = np.asarray([truth[i].argmax() for i in range(len(truth))])\n",
        "    return np.mean(pred_result == truth_result)\n",
        "#########################################################################################################################\n",
        "  def predict(self, X):\n",
        "    pred = self.FeedForward(X)\n",
        "    return pred\n",
        "##########################################################################################################################\n",
        "  def fit(self, X, Y, epochs, eta, batch_size):\n",
        "    numberOfBatch = math.ceil(X.shape[0]/batch_size)\n",
        "    loss_array = []\n",
        "    lenLoss = 0\n",
        "    random.seed()\n",
        "    self.val_array = []\n",
        "    self.acc_array = []\n",
        "    for epoch in range(epochs):\n",
        "      loss = 0\n",
        "      LR = self.lr_exp_decay(epoch, eta) # adjust learning rate\n",
        "      val_array = []\n",
        "      acc_array = []\n",
        "      for batch in range(numberOfBatch-1):\n",
        "        TrainX = X[batch*batch_size : (batch+1)*batch_size - 1] #create mini-batchX\n",
        "        TrainY = Y[batch*batch_size : (batch+1)*batch_size - 1] #create mini-batchY\n",
        "        TestX = X[(numberOfBatch - 1)*batch_size : ] # use last mini-batch to validate\n",
        "        TestY = Y[(numberOfBatch - 1)*batch_size : ]\n",
        "        test_result = self.predict(TestX) # test model on validation set\n",
        "        val_array.append(self.val(test_result, TestY)) \n",
        "        ypred = self.FeedForward(TrainX)\n",
        "        acc_array.append(self.val(ypred, TrainY)) \n",
        "        loss = cross_entropy_loss(ypred, TrainY)\n",
        "        (dW, db) = self.Backpropagation(TrainX, TrainY)\n",
        "        for i in range(1, self.Number_Of_Layers):\n",
        "          self.L[i].W += -LR*dW[i-1]  # adjust W\n",
        "          self.L[i].b += -LR*db[i-1]  # adjust b\n",
        "      val_acc = np.mean(np.asarray(val_array)) # calculate accuracy on validation set of each epoch\n",
        "      acc = np.mean(np.asarray(acc_array)) # calculate accuray on trained set of each epoch\n",
        "      self.val_array.append(val_acc)\n",
        "      self.acc_array.append(acc)\n",
        "      print(f\"epoch {epoch} - loss: {loss} - val_acc: {val_acc} - acc: {acc} - learning rate: {LR}\")\n",
        "      dist = abs(val_acc - acc)\n",
        "##########################################################################################################################\n"
      ],
      "metadata": {
        "id": "Kgn3dvrZWZVT"
      },
      "execution_count": 270,
      "outputs": []
    },
    {
      "cell_type": "markdown",
      "source": [
        "# **Huấn luyện mô hình trên bộ dữ liệu MNIST**"
      ],
      "metadata": {
        "id": "dbgKYcd88TPk"
      }
    },
    {
      "cell_type": "markdown",
      "source": [
        "**get dataset**"
      ],
      "metadata": {
        "id": "NonGRdJj8dLC"
      }
    },
    {
      "cell_type": "code",
      "source": [
        "from keras.datasets import mnist\n",
        "(train_X, train_y), (test_X, test_y) = mnist.load_data()"
      ],
      "metadata": {
        "id": "tOOOZvHOycxa"
      },
      "execution_count": 271,
      "outputs": []
    },
    {
      "cell_type": "markdown",
      "source": [
        "**chuyển giá trị vô hướng ở đầu ra thành vector dạng one hot**"
      ],
      "metadata": {
        "id": "2WLsJIFd8iye"
      }
    },
    {
      "cell_type": "code",
      "source": [
        "def to_one_hot(labels, dimension):\n",
        "  result =np.zeros((len(labels), dimension), dtype = np.uint8)\n",
        "  for i, label in enumerate(labels):\n",
        "    result[i, label] = 1\n",
        "  return np.asarray(result)\n",
        "  "
      ],
      "metadata": {
        "id": "gqAK5MOCCYIp"
      },
      "execution_count": 272,
      "outputs": []
    },
    {
      "cell_type": "markdown",
      "source": [
        "**pre-process data**"
      ],
      "metadata": {
        "id": "Y4WA7xbk8srr"
      }
    },
    {
      "cell_type": "code",
      "source": [
        "print('X_train: ' + str(train_X.shape))\n",
        "print('Y_train: ' + str(train_y.shape))\n",
        "print('X_test:  '  + str(test_X.shape))\n",
        "print('Y_test:  '  + str(test_y.shape))\n",
        "train_X[train_X>0] = 1\n",
        "test_X[test_X>0] = 1\n",
        "train_size = train_X.shape[0]\n",
        "test_size = test_X.shape[0]\n",
        "#-----------------------------------------------------------------------\n",
        "trainX = np.asarray([train_X[i].flatten() for i in range(train_size)]) #vectorize image\n",
        "testX = np.asarray([test_X[i].flatten() for i in range(test_size)]) #vectorize image\n",
        "#-----------------------------------------------------------------------\n",
        "trainY = to_one_hot(train_y, 10) # trasfer to one-hot vector\n",
        "testY = to_one_hot(test_y, 10) #transfer to one-hot vector\n",
        "print(trainY.shape)"
      ],
      "metadata": {
        "colab": {
          "base_uri": "https://localhost:8080/"
        },
        "id": "MphmIZn76lpt",
        "outputId": "a77db855-ee11-4af1-b125-0f71d1956f46"
      },
      "execution_count": 273,
      "outputs": [
        {
          "output_type": "stream",
          "name": "stdout",
          "text": [
            "X_train: (60000, 28, 28)\n",
            "Y_train: (60000,)\n",
            "X_test:  (10000, 28, 28)\n",
            "Y_test:  (10000,)\n",
            "(60000, 10)\n"
          ]
        }
      ]
    },
    {
      "cell_type": "code",
      "source": [
        "from matplotlib import pyplot\n",
        "import matplotlib.pyplot as plt\n",
        "for i in range(9):  \n",
        "  pyplot.subplot(330 + 1 + i)\n",
        "  pyplot.imshow(train_X[i])#, cmap=pyplot.get_cmap('gray'))\n",
        "  pyplot.show()"
      ],
      "metadata": {
        "colab": {
          "base_uri": "https://localhost:8080/",
          "height": 899
        },
        "id": "Q7dDQiop7shk",
        "outputId": "c82b28be-ede7-44ec-b859-6d1a0801ed37"
      },
      "execution_count": 274,
      "outputs": [
        {
          "output_type": "display_data",
          "data": {
            "text/plain": [
              "<Figure size 432x288 with 1 Axes>"
            ],
            "image/png": "[encoded data removed]"
          },
          "metadata": {
            "needs_background": "light"
          }
        },
        {
          "output_type": "display_data",
          "data": {
            "text/plain": [
              "<Figure size 432x288 with 1 Axes>"
            ],
            "image/png": "[encoded data removed]"
          },
          "metadata": {
            "needs_background": "light"
          }
        },
        {
          "output_type": "display_data",
          "data": {
            "text/plain": [
              "<Figure size 432x288 with 1 Axes>"
            ],
            "image/png": "[encoded data removed]"
          },
          "metadata": {
            "needs_background": "light"
          }
        },
        {
          "output_type": "display_data",
          "data": {
            "text/plain": [
              "<Figure size 432x288 with 1 Axes>"
            ],
            "image/png": "[encoded data removed]"
          },
          "metadata": {
            "needs_background": "light"
          }
        },
        {
          "output_type": "display_data",
          "data": {
            "text/plain": [
              "<Figure size 432x288 with 1 Axes>"
            ],
            "image/png": "[encoded data removed]"
          },
          "metadata": {
            "needs_background": "light"
          }
        },
        {
          "output_type": "display_data",
          "data": {
            "text/plain": [
              "<Figure size 432x288 with 1 Axes>"
            ],
            "image/png": "[encoded data removed]"
          },
          "metadata": {
            "needs_background": "light"
          }
        },
        {
          "output_type": "display_data",
          "data": {
            "text/plain": [
              "<Figure size 432x288 with 1 Axes>"
            ],
            "image/png": "[encoded data removed]"
          },
          "metadata": {
            "needs_background": "light"
          }
        },
        {
          "output_type": "display_data",
          "data": {
            "text/plain": [
              "<Figure size 432x288 with 1 Axes>"
            ],
            "image/png": "[encoded data removed]"
          },
          "metadata": {
            "needs_background": "light"
          }
        },
        {
          "output_type": "display_data",
          "data": {
            "text/plain": [
              "<Figure size 432x288 with 1 Axes>"
            ],
            "image/png": "[encoded data removed]"
          },
          "metadata": {
            "needs_background": "light"
          }
        }
      ]
    },
    {
      "cell_type": "markdown",
      "source": [
        "**tạo và huấn luyện mô hình**"
      ],
      "metadata": {
        "id": "0HyjslXm86aR"
      }
    },
    {
      "cell_type": "code",
      "source": [
        "model = Neural_network(\n",
        "    layer(input_size = 28*28, output_size = 28*28),\n",
        "    layer(input_size = 28*28, output_size = 1024, activation = \"relu\"),\n",
        "    layer(input_size = 1024, output_size = 10, activation = \"softmax\")\n",
        ")\n",
        "Num_epochs = 40\n",
        "model.fit(trainX, trainY, epochs = Num_epochs, eta = 0.5, batch_size = 512)"
      ],
      "metadata": {
        "id": "ODzsMKLAJOhC",
        "colab": {
          "base_uri": "https://localhost:8080/"
        },
        "outputId": "f1baf705-b585-4bdd-d956-3f09a13b4dcd"
      },
      "execution_count": 275,
      "outputs": [
        {
          "output_type": "stream",
          "name": "stdout",
          "text": [
            "epoch 0 - loss: 0.21425960680979536 - val_acc: 0.8228276353276351 - acc: 0.7985515245789219 - learning rate: 0.5\n",
            "epoch 1 - loss: 0.16266353274308937 - val_acc: 0.962161680911681 - acc: 0.9315570274474384 - learning rate: 0.45241870901797976\n",
            "epoch 2 - loss: 0.14120724654120925 - val_acc: 0.986378205128205 - acc: 0.9484503320119757 - learning rate: 0.4093653765389909\n",
            "epoch 3 - loss: 0.1293518710652502 - val_acc: 0.9886039886039887 - acc: 0.9582350678241089 - learning rate: 0.37040911034085894\n",
            "epoch 4 - loss: 0.12076800836667191 - val_acc: 0.988960113960114 - acc: 0.9630354424874972 - learning rate: 0.33516002301781966\n",
            "epoch 5 - loss: 0.11457429226551324 - val_acc: 0.9893162393162394 - acc: 0.9665311857092678 - learning rate: 0.3032653298563167\n",
            "epoch 6 - loss: 0.10980940498350182 - val_acc: 0.9895833333333334 - acc: 0.9691069965042568 - learning rate: 0.2744058180470132\n",
            "epoch 7 - loss: 0.106186302088474 - val_acc: 0.9895833333333334 - acc: 0.9713984645491496 - learning rate: 0.24829265189570474\n",
            "epoch 8 - loss: 0.10300691244145076 - val_acc: 0.9895833333333334 - acc: 0.9731714252262198 - learning rate: 0.22466448205861078\n",
            "epoch 9 - loss: 0.10015639402273531 - val_acc: 0.9895833333333334 - acc: 0.9744760566678374 - learning rate: 0.20328482987029955\n",
            "epoch 10 - loss: 0.09762771221068568 - val_acc: 0.9895833333333334 - acc: 0.9756468797564689 - learning rate: 0.18393972058572117\n",
            "epoch 11 - loss: 0.09498297112445678 - val_acc: 0.9895833333333334 - acc: 0.9768344288892234 - learning rate: 0.16643554184903978\n",
            "epoch 12 - loss: 0.09243082114148259 - val_acc: 0.9895833333333334 - acc: 0.977737635271882 - learning rate: 0.150597105956101\n",
            "epoch 13 - loss: 0.09028567431961032 - val_acc: 0.9895833333333334 - acc: 0.9782728686838277 - learning rate: 0.1362658965170063\n",
            "epoch 14 - loss: 0.08833243630586256 - val_acc: 0.9895833333333334 - acc: 0.9788750062722666 - learning rate: 0.12329848197080322\n",
            "epoch 15 - loss: 0.0866939926094611 - val_acc: 0.9895833333333334 - acc: 0.9793098834194726 - learning rate: 0.11156508007421491\n",
            "epoch 16 - loss: 0.08526810474281098 - val_acc: 0.9895833333333334 - acc: 0.9798952949637882 - learning rate: 0.10094825899732769\n",
            "epoch 17 - loss: 0.08398745962905393 - val_acc: 0.9895833333333334 - acc: 0.9802967200227475 - learning rate: 0.0913417620263673\n",
            "epoch 18 - loss: 0.0829054680351596 - val_acc: 0.9895833333333334 - acc: 0.980597788816967 - learning rate: 0.08264944411079327\n",
            "epoch 19 - loss: 0.08198897027522864 - val_acc: 0.9895833333333334 - acc: 0.9808821315670632 - learning rate: 0.07478430961131752\n",
            "epoch 20 - loss: 0.0812036609329604 - val_acc: 0.9895833333333334 - acc: 0.9811664743171593 - learning rate: 0.06766764161830635\n",
            "epoch 21 - loss: 0.0805507686411624 - val_acc: 0.9895833333333334 - acc: 0.9812668305818991 - learning rate: 0.06122821412649095\n",
            "epoch 22 - loss: 0.07995428817912952 - val_acc: 0.9895833333333334 - acc: 0.9815678993761185 - learning rate: 0.055401579181166935\n",
            "epoch 23 - loss: 0.07946311708431036 - val_acc: 0.9895833333333334 - acc: 0.9818020639938448 - learning rate: 0.05012942186140185\n",
            "epoch 24 - loss: 0.07907280670798847 - val_acc: 0.9895833333333334 - acc: 0.9820027765233246 - learning rate: 0.045358976644706235\n",
            "epoch 25 - loss: 0.07871103926495242 - val_acc: 0.9895833333333334 - acc: 0.9821031327880645 - learning rate: 0.0410424993119494\n",
            "epoch 26 - loss: 0.0783490652021557 - val_acc: 0.9895833333333334 - acc: 0.9822202150969276 - learning rate: 0.03713678910716694\n",
            "epoch 27 - loss: 0.07803000334977131 - val_acc: 0.9895833333333334 - acc: 0.9823038453175441 - learning rate: 0.03360275636987488\n",
            "epoch 28 - loss: 0.0777390232125231 - val_acc: 0.9895833333333334 - acc: 0.9824376536705305 - learning rate: 0.030405031312608976\n",
            "epoch 29 - loss: 0.07746070940277582 - val_acc: 0.9895833333333334 - acc: 0.9825380099352703 - learning rate: 0.027511610028203605\n",
            "epoch 30 - loss: 0.07720525604881942 - val_acc: 0.9895833333333334 - acc: 0.9826383662000102 - learning rate: 0.024893534183931972\n",
            "epoch 31 - loss: 0.07696501445574301 - val_acc: 0.9895833333333334 - acc: 0.9827052703765033 - learning rate: 0.0225246011967789\n",
            "epoch 32 - loss: 0.07673564619032476 - val_acc: 0.9895833333333334 - acc: 0.9828558047736131 - learning rate: 0.020381101989183106\n",
            "epoch 33 - loss: 0.07652990474756138 - val_acc: 0.9895833333333334 - acc: 0.9828725308177364 - learning rate: 0.018441583700619997\n",
            "epoch 34 - loss: 0.0763447602532059 - val_acc: 0.9895833333333334 - acc: 0.9829561610383529 - learning rate: 0.016686634980163033\n",
            "epoch 35 - loss: 0.07617294077725786 - val_acc: 0.9895833333333334 - acc: 0.9830230652148462 - learning rate: 0.01509869171115925\n",
            "epoch 36 - loss: 0.07601318410067527 - val_acc: 0.9895833333333334 - acc: 0.9831401475237093 - learning rate: 0.01366186122364628\n",
            "epoch 37 - loss: 0.0758681761700303 - val_acc: 0.9895833333333334 - acc: 0.9831903256560792 - learning rate: 0.012361763235169694\n",
            "epoch 38 - loss: 0.07573181366603508 - val_acc: 0.9895833333333334 - acc: 0.9832070517002025 - learning rate: 0.011185385928082795\n",
            "epoch 39 - loss: 0.07560300446695514 - val_acc: 0.9895833333333334 - acc: 0.9832572298325724 - learning rate: 0.01012095572290219\n"
          ]
        }
      ]
    },
    {
      "cell_type": "markdown",
      "source": [
        "**hiển thị kết quả accuracy và validation accuracy**"
      ],
      "metadata": {
        "id": "AUBoO2Bi9AsR"
      }
    },
    {
      "cell_type": "code",
      "source": [
        "acc_list = model.acc_array\n",
        "val_acc_list = model.val_array\n",
        "plt.plot(range(Num_epochs), acc_list, color = \"red\", label = \"Training accuracy\")\n",
        "plt.plot(range(Num_epochs), val_acc_list, color = \"blue\", label = \"Training val_accuracy\")"
      ],
      "metadata": {
        "colab": {
          "base_uri": "https://localhost:8080/",
          "height": 283
        },
        "id": "KkwXDU4BRekc",
        "outputId": "68afa0db-d46f-4ec2-95e8-db83b676ea4a"
      },
      "execution_count": 276,
      "outputs": [
        {
          "output_type": "execute_result",
          "data": {
            "text/plain": [
              "[<matplotlib.lines.Line2D at 0x7f95bf86d3d0>]"
            ]
          },
          "metadata": {},
          "execution_count": 276
        },
        {
          "output_type": "display_data",
          "data": {
            "text/plain": [
              "<Figure size 432x288 with 1 Axes>"
            ],
            "image/png": "[encoded data removed]"
          },
          "metadata": {
            "needs_background": "light"
          }
        }
      ]
    },
    {
      "cell_type": "markdown",
      "source": [
        "**sử dụng mô hình đã huấn luyện để dự đoán test data**"
      ],
      "metadata": {
        "id": "DdGHSG_H9I6U"
      }
    },
    {
      "cell_type": "code",
      "source": [
        "test = model.predict(testX)\n",
        "print(test.shape)"
      ],
      "metadata": {
        "id": "Oil9kUavFduy",
        "colab": {
          "base_uri": "https://localhost:8080/"
        },
        "outputId": "7c2627cc-2cef-4925-cd86-3a62933b360f"
      },
      "execution_count": 277,
      "outputs": [
        {
          "output_type": "stream",
          "name": "stdout",
          "text": [
            "(10000, 10)\n"
          ]
        }
      ]
    },
    {
      "cell_type": "code",
      "source": [
        "test_result = np.asarray([test[i].argmax() for i in range(len(test))])"
      ],
      "metadata": {
        "id": "xPQsuSku2SPj"
      },
      "execution_count": 278,
      "outputs": []
    },
    {
      "cell_type": "code",
      "source": [
        "print(test_result)\n",
        "print(test_y)"
      ],
      "metadata": {
        "colab": {
          "base_uri": "https://localhost:8080/"
        },
        "id": "4RSltGrc2uXP",
        "outputId": "61441abb-295b-4bd4-a58d-20623059949e"
      },
      "execution_count": 279,
      "outputs": [
        {
          "output_type": "stream",
          "name": "stdout",
          "text": [
            "[7 2 1 ... 4 5 6]\n",
            "[7 2 1 ... 4 5 6]\n"
          ]
        }
      ]
    },
    {
      "cell_type": "code",
      "source": [
        "acc = np.mean(test_result == test_y)"
      ],
      "metadata": {
        "id": "HQyY-Pvk2wso"
      },
      "execution_count": 280,
      "outputs": []
    },
    {
      "cell_type": "code",
      "source": [
        "print(acc)"
      ],
      "metadata": {
        "colab": {
          "base_uri": "https://localhost:8080/"
        },
        "id": "GkjF7CM-3Emk",
        "outputId": "d92d86c2-44bb-4bca-8c16-b637e6f2f468"
      },
      "execution_count": 281,
      "outputs": [
        {
          "output_type": "stream",
          "name": "stdout",
          "text": [
            "0.9754\n"
          ]
        }
      ]
    },
    {
      "cell_type": "code",
      "source": [
        ""
      ],
      "metadata": {
        "id": "jJ6NdkLtRdTq"
      },
      "execution_count": 281,
      "outputs": []
    },
    {
      "cell_type": "code",
      "source": [
        "\"\"\"\n",
        "import cv2\n",
        "from google.colab.patches import cv2_imshow\n",
        "\"\"\""
      ],
      "metadata": {
        "id": "bMPFYh2MvMVo",
        "colab": {
          "base_uri": "https://localhost:8080/",
          "height": 36
        },
        "outputId": "0b085454-6f76-4cfc-ea5d-dc89f88c2f7c"
      },
      "execution_count": 282,
      "outputs": [
        {
          "output_type": "execute_result",
          "data": {
            "text/plain": [
              "'\\nimport cv2\\nfrom google.colab.patches import cv2_imshow\\n'"
            ],
            "application/vnd.google.colaboratory.intrinsic+json": {
              "type": "string"
            }
          },
          "metadata": {},
          "execution_count": 282
        }
      ]
    },
    {
      "cell_type": "code",
      "source": [
        "\"\"\"\"\n",
        "image = cv2.imread(\"/content/7.2.png\")\n",
        "cv2_i\n",
        "\"\"\""
      ],
      "metadata": {
        "colab": {
          "base_uri": "https://localhost:8080/",
          "height": 36
        },
        "id": "giwTt-J-p4D1",
        "outputId": "97871577-3921-4cdc-b803-5363da98bfb5"
      },
      "execution_count": 283,
      "outputs": [
        {
          "output_type": "execute_result",
          "data": {
            "text/plain": [
              "'\"\\nimage = cv2.imread(\"/content/7.2.png\")\\ncv2_i\\n'"
            ],
            "application/vnd.google.colaboratory.intrinsic+json": {
              "type": "string"
            }
          },
          "metadata": {},
          "execution_count": 283
        }
      ]
    },
    {
      "cell_type": "code",
      "source": [
        ""
      ],
      "metadata": {
        "id": "BEVodGtxqHcv"
      },
      "execution_count": 283,
      "outputs": []
    },
    {
      "cell_type": "code",
      "source": [
        "#imageB2G = cv2.cvtColor(image, cv2.COLOR_BGR2GRAY)"
      ],
      "metadata": {
        "id": "kEb6xw7Tq7Rr"
      },
      "execution_count": 284,
      "outputs": []
    },
    {
      "cell_type": "code",
      "source": [
        "#imageB2G"
      ],
      "metadata": {
        "id": "9FPWrS_Zq-vv"
      },
      "execution_count": 285,
      "outputs": []
    },
    {
      "cell_type": "code",
      "source": [
        "#img = np.asarray(imageB2G)\n",
        "#img[img>0] = 1"
      ],
      "metadata": {
        "id": "QvR--MKAsOD-"
      },
      "execution_count": 286,
      "outputs": []
    },
    {
      "cell_type": "code",
      "source": [
        "#imgArray = [img.flatten()]"
      ],
      "metadata": {
        "id": "EMwliFw0sdrH"
      },
      "execution_count": 287,
      "outputs": []
    },
    {
      "cell_type": "code",
      "source": [
        "#imgArray"
      ],
      "metadata": {
        "id": "lXbqYcA_seQl"
      },
      "execution_count": 288,
      "outputs": []
    },
    {
      "cell_type": "code",
      "source": [
        "\"\"\"\"\n",
        "PRED = model.predict(imgArray)\n",
        "print(\"Image: \")\n",
        "cv2_imshow(image)\n",
        "print(\"Prediction result: \", np.asarray(PRED).argmax())\n",
        "\"\"\""
      ],
      "metadata": {
        "colab": {
          "base_uri": "https://localhost:8080/",
          "height": 36
        },
        "id": "0AYvYYPItMUC",
        "outputId": "e1225f4f-dcc9-4e46-ed00-0e5d3e57d174"
      },
      "execution_count": 289,
      "outputs": [
        {
          "output_type": "execute_result",
          "data": {
            "text/plain": [
              "'\"\\nPRED = model.predict(imgArray)\\nprint(\"Image: \")\\ncv2_imshow(image)\\nprint(\"Prediction result: \", np.asarray(PRED).argmax())\\n'"
            ],
            "application/vnd.google.colaboratory.intrinsic+json": {
              "type": "string"
            }
          },
          "metadata": {},
          "execution_count": 289
        }
      ]
    },
    {
      "cell_type": "code",
      "source": [
        ""
      ],
      "metadata": {
        "id": "6j_IUNn5ttXi"
      },
      "execution_count": 289,
      "outputs": []
    }
  ]
}