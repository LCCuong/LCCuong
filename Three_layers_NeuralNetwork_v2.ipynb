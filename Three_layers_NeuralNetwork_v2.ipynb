{
  "nbformat": 4,
  "nbformat_minor": 0,
  "metadata": {
    "colab": {
      "name": "Three_layers_NeuralNetwork-v2.ipynb",
      "provenance": [],
      "collapsed_sections": [],
      "include_colab_link": true
    },
    "kernelspec": {
      "name": "python3",
      "display_name": "Python 3"
    },
    "language_info": {
      "name": "python"
    }
  },
  "cells": [
    {
      "cell_type": "markdown",
      "metadata": {
        "id": "view-in-github",
        "colab_type": "text"
      },
      "source": [
        "<a href=\"https://colab.research.google.com/github/LCCuong/LCCuong/blob/gh-pages/Three_layers_NeuralNetwork_v2.ipynb\" target=\"_parent\"><img src=\"https://colab.research.google.com/assets/colab-badge.svg\" alt=\"Open In Colab\"/></a>"
      ]
    },
    {
      "cell_type": "code",
      "execution_count": 421,
      "metadata": {
        "id": "459DO-poQmxe"
      },
      "outputs": [],
      "source": [
        "import numpy as np\n",
        "import matplotlib as plt\n",
        "np.random.seed()"
      ]
    },
    {
      "cell_type": "markdown",
      "source": [
        "# **Tạo các activation functions**"
      ],
      "metadata": {
        "id": "9Pdmreuov7rP"
      }
    },
    {
      "cell_type": "code",
      "source": [
        "\n",
        "def sigmoid(s):\n",
        "  return 1/(1+np.exp(-s))\n",
        "\n",
        "def d_sigmoid(s):\n",
        "  return sigmoid(s)*(1 - sigmoid(s))\n",
        "\n",
        "print(\"sigmoid(s) =\", sigmoid(np.asarray([3, 7, 8])))\n",
        "print(\"d_sigmoid(s) = \", d_sigmoid(np.asarray([3, 7, 8])))\n",
        "\n",
        "#print(np.asarray([[1, 2], [3, 4], [5, 6]]).T + np.asarray([1, 2, 3]))\n",
        "#print(np.log(np.asarray([1, 2, 3])))\n",
        "l = [1, 2, 3, 4, 5, 6, 7, 8, 9, 10]\n",
        "print(l[5:])\n",
        "a = [i for i in range(5,3,-1)]\n",
        "print(a)"
      ],
      "metadata": {
        "colab": {
          "base_uri": "https://localhost:8080/"
        },
        "id": "_eBdVnqceEnk",
        "outputId": "ba6a9ca4-9fbd-457a-a4e7-472e60c5238f"
      },
      "execution_count": 422,
      "outputs": [
        {
          "output_type": "stream",
          "name": "stdout",
          "text": [
            "sigmoid(s) = [0.95257413 0.99908895 0.99966465]\n",
            "d_sigmoid(s) =  [0.04517666 0.00091022 0.00033524]\n",
            "[6, 7, 8, 9, 10]\n",
            "[5, 4]\n"
          ]
        }
      ]
    },
    {
      "cell_type": "code",
      "source": [
        "def tanh(x):\n",
        "  return (np.exp(x-np.max(x, axis = 1, keepdims = True)) - np.exp(-x-np.max(x, axis = 1, keepdims = True)))/(np.exp(x-np.max(x, axis = 1, keepdims = True)) + np.exp(-x-np.max(x, axis = 1, keepdims = True)))\n",
        "\n",
        "# tanh derivative\n",
        "def d_tanh(x):\n",
        "  return 1 - tanh(x) * tanh(x)"
      ],
      "metadata": {
        "id": "CxQLp84uHzU6"
      },
      "execution_count": 423,
      "outputs": []
    },
    {
      "cell_type": "code",
      "source": [
        "def relu(s):\n",
        "  m = 0 + s\n",
        "  m[m < 0] = 0\n",
        "  return m\n",
        "\n",
        "def d_relu(s):\n",
        "  m = s + 0\n",
        "  m[m > 0] = 1\n",
        "  return m\n",
        "  \n",
        "print(relu(np.asarray([3,5,-1])))\n",
        "print(d_relu(np.asarray([3,5,-1])))"
      ],
      "metadata": {
        "colab": {
          "base_uri": "https://localhost:8080/"
        },
        "id": "g2F-udcBm2Br",
        "outputId": "d1d6db4e-74a6-49ba-9ff5-dc7e6fb1d43d"
      },
      "execution_count": 424,
      "outputs": [
        {
          "output_type": "stream",
          "name": "stdout",
          "text": [
            "[3 5 0]\n",
            "[ 1  1 -1]\n"
          ]
        }
      ]
    },
    {
      "cell_type": "code",
      "source": [
        "def softmax(s):\n",
        "  e_s = np.exp(s - np.max(s, axis = 1, keepdims = True))\n",
        "  result = e_s / e_s.sum(axis = 1, keepdims = True)\n",
        "  return result\n",
        "\n",
        "#print(softmax(np.asarray([3,5,-1])))"
      ],
      "metadata": {
        "id": "baJgKtC5p2nD"
      },
      "execution_count": 425,
      "outputs": []
    },
    {
      "cell_type": "code",
      "source": [
        "def cross_entropy_loss(Ypred, Y): \n",
        "  loss = np.asarray([np.sum(np.multiply(Y[i], np.log(Ypred[i] + 1e-9))) for i in range(Y.shape[0])])\n",
        "  return -np.mean(loss)"
      ],
      "metadata": {
        "id": "55vr4RMRCHRi"
      },
      "execution_count": 426,
      "outputs": []
    },
    {
      "cell_type": "code",
      "source": [
        "class layer:\n",
        "  def __init__(self, input_size, output_size, activation = \"none\"):\n",
        "    self.input_size = input_size\n",
        "    self.output_size = output_size\n",
        "    if activation!=\"none\":\n",
        "      if activation == \"relu\":\n",
        "        self.activation = relu\n",
        "        self.derivative = d_relu\n",
        "      elif activation == \"softmax\":\n",
        "        self.activation = softmax\n",
        "        self.derivative = 0\n",
        "      elif activation == \"sigmoid\":\n",
        "        self.activation = sigmoid\n",
        "        self.derivative = d_sigmoid\n",
        "      elif activation == \"tanh\":\n",
        "        self.activation = tanh\n",
        "        self.derivative = d_tanh\n",
        "      else:\n",
        "        raise ValueError('Activation not found')\n",
        "      np.random.seed()\n",
        "      #self.W = np.random.randn(self.input_size, self.output_size)/np.sqrt(self.input_size*self.output_size) \n",
        "      self.W = np.random.randn(self.input_size, self.output_size)/np.sqrt(self.input_size)\n",
        "      self.b = 1.0*np.zeros((self.output_size), dtype = np.uint8) \n",
        "    else:\n",
        "      self.activation = \"none\"\n",
        "      if (input_size!=output_size):\n",
        "        raise ValueError('Input layer must have the same input_size and output_size')\n",
        "    #print(self.W.type)\n",
        "  def __call__(self, input):\n",
        "    if self.activation != \"none\":\n",
        "      self.z = np.dot(input, self.W) + self.b\n",
        "     # self.z = self.z/np.sum()\n",
        "      #self.z = self.W.T.dot(input) + self.b\n",
        "      self.a = self.activation(self.z)\n",
        "      return self.a\n",
        "    else:\n",
        "      self.a = self.z = input\n",
        "      return input"
      ],
      "metadata": {
        "id": "1Xl7PMSNQ0_x"
      },
      "execution_count": 427,
      "outputs": []
    },
    {
      "cell_type": "code",
      "source": [
        "import math\n",
        "import random\n",
        "print(math.ceil(2.8))"
      ],
      "metadata": {
        "colab": {
          "base_uri": "https://localhost:8080/"
        },
        "id": "A4CA37Jf7Wmb",
        "outputId": "4afc12b3-d78a-41c7-9ea4-b72639074e50"
      },
      "execution_count": 428,
      "outputs": [
        {
          "output_type": "stream",
          "name": "stdout",
          "text": [
            "3\n"
          ]
        }
      ]
    },
    {
      "cell_type": "markdown",
      "source": [
        "# **3_layers_Network**"
      ],
      "metadata": {
        "id": "JfVFEucKxnOi"
      }
    },
    {
      "cell_type": "code",
      "source": [
        "class Neural_network:\n",
        "  def __init__(self, *args):\n",
        "    self.Number_Of_Layers = len(args)\n",
        "    self.L = []\n",
        "    #if len(args)!=3:\n",
        "     # raise ValueError(f'Number of layers must be 3')\n",
        "    for arg in args:\n",
        "      if len(self.L)!=0:\n",
        "        if arg.input_size != self.L[len(self.L)-1].output_size:\n",
        "          raise ValueError(f'input_size of layer {len(self.L)} must equal to output_size of layer {len(self.L)-1}')\n",
        "      self.L.append(arg)\n",
        "##########################################################################################################################\n",
        "  def FeedForward(self, input):\n",
        "    x = input\n",
        "    #print(x.shape)\n",
        "    for Layer in self.L:\n",
        "      x = Layer(x)\n",
        "    return x\n",
        "##########################################################################################################################\n",
        "  def Backpropagation(self, X, Y):\n",
        "    with np.errstate(divide=\"warn\"):\n",
        "  #    print(self.L[self.Number_Of_Layers - 1].W)\n",
        "      E = (self.L[self.Number_Of_Layers - 1].a - Y)/(self.L[self.Number_Of_Layers - 1].a.shape[0])\n",
        "    #print(\"hello:\", self.L[self.Number_Of_Layers - 2].a.shape[0])\n",
        "      delta_W = []\n",
        "      d_W = np.dot(self.L[self.Number_Of_Layers - 2].a.T, E)\n",
        "      delta_W.append(d_W)\n",
        "      delta_b = []\n",
        "      d_b = np.sum(E, axis = 0)\n",
        "      delta_b.append(d_b)\n",
        "      for i in range(self.Number_Of_Layers-2, 0, -1):\n",
        "        E = np.multiply(np.dot(E, self.L[i+1].W.T), self.L[i].derivative(self.L[i].z))\n",
        "        d_W = np.dot(self.L[i-1].a.T, E)\n",
        "        delta_W.insert(0,d_W)\n",
        "        d_b = np.sum(E, axis = 0)\n",
        "        delta_b.insert(0, d_b)\n",
        "\n",
        "    return delta_W, delta_b\n",
        "##########################################################################################################################\n",
        "  def lr_exp_decay(self, epoch, init_eta):\n",
        "      k = 0.1\n",
        "      return init_eta * math.exp(-k*epoch)\n",
        "##########################################################################################################################\n",
        "  def val(self, pred, truth):\n",
        "    pred_result = np.asarray([pred[i].argmax() for i in range(len(pred))])\n",
        "    truth_result = np.asarray([truth[i].argmax() for i in range(len(truth))])\n",
        "    return np.mean(pred_result == truth_result)\n",
        "#########################################################################################################################\n",
        "  def predict(self, X):\n",
        "    pred = self.FeedForward(X)\n",
        "    return pred\n",
        "##########################################################################################################################\n",
        "  def fit(self, X, Y, testX, testY, epoches, eta, batch_size):\n",
        "    numberOfBatch = math.ceil(X.shape[0]/batch_size)\n",
        "    loss_array = []\n",
        "    lenLoss = 0\n",
        "    random.seed()\n",
        "    self.val_array = []\n",
        "    self.acc_array = []\n",
        "    LR = eta\n",
        "    for epoch in range(epoches):\n",
        "      loss = 0\n",
        "      #if (epoch+1)%10 == 0:\n",
        "      #  LR = self.lr_exp_decay((epoch+1)/10, eta)\n",
        "      LR = self.lr_exp_decay(epoch, eta)\n",
        "      val_array = []\n",
        "      acc_array = []\n",
        "      for batch in range(numberOfBatch-1):\n",
        "        TrainX = X[batch*batch_size : (batch+1)*batch_size - 1]\n",
        "        TrainY = Y[batch*batch_size : (batch+1)*batch_size - 1]\n",
        "        TestX = X[(numberOfBatch - 1)*batch_size : ]\n",
        "        TestY = Y[(numberOfBatch - 1)*batch_size : ]\n",
        "        test_result = self.predict(TestX)\n",
        "        val_array.append(self.val(test_result, TestY))\n",
        "        ypred = self.FeedForward(TrainX)\n",
        "        acc_array.append(self.val(ypred, TrainY))\n",
        "        loss = cross_entropy_loss(ypred, TrainY)\n",
        "          #print(ypred[0][5], ypred[0].argmax())\n",
        "        (dW, db) = self.Backpropagation(TrainX, TrainY)\n",
        "        for i in range(1, self.Number_Of_Layers):\n",
        "          self.L[i].W += -LR*dW[i-1]\n",
        "          self.L[i].b += -LR*db[i-1]\n",
        "      test = self.predict(testX)\n",
        "      real_test_result = np.asarray([test[i].argmax() for i in range(len(test))])\n",
        "      real_acc = np.mean(real_test_result == testY)\n",
        "      val_acc = np.mean(np.asarray(val_array))\n",
        "      acc = np.mean(np.asarray(acc_array))\n",
        "      self.val_array.append(val_acc)\n",
        "      self.acc_array.append(acc)\n",
        "      print(f\"epoch {epoch} - loss: {loss} - val_acc: {val_acc} - acc: {acc} - learning rate: {LR} - real_acc: {real_acc}\")\n",
        "      dist = abs(val_acc - acc)\n",
        "      #if dist < 0.001 and epoch>=50:\n",
        "       # return\n",
        "##########################################################################################################################\n"
      ],
      "metadata": {
        "id": "Kgn3dvrZWZVT"
      },
      "execution_count": 429,
      "outputs": []
    },
    {
      "cell_type": "code",
      "source": [
        "from keras.datasets import mnist\n",
        "(train_X, train_y), (test_X, test_y) = mnist.load_data()"
      ],
      "metadata": {
        "id": "tOOOZvHOycxa"
      },
      "execution_count": 430,
      "outputs": []
    },
    {
      "cell_type": "code",
      "source": [
        "def to_one_hot(labels, dimension):\n",
        "  result =np.zeros((len(labels), dimension), dtype = np.uint8)\n",
        "  for i, label in enumerate(labels):\n",
        "    result[i, label] = 1\n",
        "  return np.asarray(result)\n",
        "  "
      ],
      "metadata": {
        "id": "gqAK5MOCCYIp"
      },
      "execution_count": 431,
      "outputs": []
    },
    {
      "cell_type": "code",
      "source": [
        "print('X_train: ' + str(train_X.shape))\n",
        "print('Y_train: ' + str(train_y.shape))\n",
        "print('X_test:  '  + str(test_X.shape))\n",
        "print('Y_test:  '  + str(test_y.shape))\n",
        "train_X[train_X>0] = 1\n",
        "test_X[test_X>0] = 1\n",
        "train_size = train_X.shape[0]\n",
        "test_size = test_X.shape[0]\n",
        "#-----------------------------------------------------------------------\n",
        "trainX = np.asarray([train_X[i].flatten() for i in range(train_size)])\n",
        "testX = np.asarray([test_X[i].flatten() for i in range(test_size)])\n",
        "#-----------------------------------------------------------------------\n",
        "trainY = to_one_hot(train_y, 10)\n",
        "testY = to_one_hot(test_y, 10)\n",
        "print(trainY.shape)"
      ],
      "metadata": {
        "colab": {
          "base_uri": "https://localhost:8080/"
        },
        "id": "MphmIZn76lpt",
        "outputId": "f4cff711-d287-4278-ec51-f06438b3c58e"
      },
      "execution_count": 432,
      "outputs": [
        {
          "output_type": "stream",
          "name": "stdout",
          "text": [
            "X_train: (60000, 28, 28)\n",
            "Y_train: (60000,)\n",
            "X_test:  (10000, 28, 28)\n",
            "Y_test:  (10000,)\n",
            "(60000, 10)\n"
          ]
        }
      ]
    },
    {
      "cell_type": "code",
      "source": [
        "from matplotlib import pyplot\n",
        "import matplotlib.pyplot as plt\n",
        "for i in range(9):  \n",
        "  pyplot.subplot(330 + 1 + i)\n",
        "  pyplot.imshow(train_X[i])#, cmap=pyplot.get_cmap('gray'))\n",
        "  pyplot.show()"
      ],
      "metadata": {
        "colab": {
          "base_uri": "https://localhost:8080/",
          "height": 899
        },
        "id": "Q7dDQiop7shk",
        "outputId": "5ac3f6b3-a19c-4218-d112-02bc9b6b1058"
      },
      "execution_count": 433,
      "outputs": [
        {
          "output_type": "display_data",
          "data": {
            "text/plain": [
              "<Figure size 432x288 with 1 Axes>"
            ],
            "image/png": "[encoded data removed]"
          },
          "metadata": {
            "needs_background": "light"
          }
        },
        {
          "output_type": "display_data",
          "data": {
            "text/plain": [
              "<Figure size 432x288 with 1 Axes>"
            ],
            "image/png": "[encoded data removed]"
          },
          "metadata": {
            "needs_background": "light"
          }
        },
        {
          "output_type": "display_data",
          "data": {
            "text/plain": [
              "<Figure size 432x288 with 1 Axes>"
            ],
            "image/png": "[encoded data removed]"
          },
          "metadata": {
            "needs_background": "light"
          }
        },
        {
          "output_type": "display_data",
          "data": {
            "text/plain": [
              "<Figure size 432x288 with 1 Axes>"
            ],
            "image/png": "[encoded data removed]"
          },
          "metadata": {
            "needs_background": "light"
          }
        },
        {
          "output_type": "display_data",
          "data": {
            "text/plain": [
              "<Figure size 432x288 with 1 Axes>"
            ],
            "image/png": "[encoded data removed]"
          },
          "metadata": {
            "needs_background": "light"
          }
        },
        {
          "output_type": "display_data",
          "data": {
            "text/plain": [
              "<Figure size 432x288 with 1 Axes>"
            ],
            "image/png": "[encoded data removed]"
          },
          "metadata": {
            "needs_background": "light"
          }
        },
        {
          "output_type": "display_data",
          "data": {
            "text/plain": [
              "<Figure size 432x288 with 1 Axes>"
            ],
            "image/png": "[encoded data removed]"
          },
          "metadata": {
            "needs_background": "light"
          }
        },
        {
          "output_type": "display_data",
          "data": {
            "text/plain": [
              "<Figure size 432x288 with 1 Axes>"
            ],
            "image/png": "[encoded data removed]"
          },
          "metadata": {
            "needs_background": "light"
          }
        },
        {
          "output_type": "display_data",
          "data": {
            "text/plain": [
              "<Figure size 432x288 with 1 Axes>"
            ],
            "image/png": "[encoded data removed]"
          },
          "metadata": {
            "needs_background": "light"
          }
        }
      ]
    },
    {
      "cell_type": "code",
      "source": [
        "model = Neural_network(\n",
        "    layer(input_size = 28*28, output_size = 28*28),\n",
        "    layer(input_size = 28*28, output_size = 2048, activation = \"relu\"),\n",
        "    #layer(input_size = 512, output_size = 88, activation = \"sigmoid\"),\n",
        "    layer(input_size = 2048, output_size = 90, activation  = \"tanh\"),\n",
        "    layer(input_size = 90, output_size = 10, activation = \"softmax\")\n",
        ")\n",
        "Num_epoches = 25\n",
        "model.fit(trainX, trainY, testX, test_y, epoches = Num_epoches, eta = 0.5, batch_size = 128)"
      ],
      "metadata": {
        "id": "ODzsMKLAJOhC",
        "colab": {
          "base_uri": "https://localhost:8080/"
        },
        "outputId": "799c0b07-4a12-41cf-9603-bcd70867a50b"
      },
      "execution_count": 406,
      "outputs": [
        {
          "output_type": "stream",
          "name": "stdout",
          "text": [
            "epoch 0 - loss: 0.035085196886332395 - val_acc: 0.9248352920227921 - acc: 0.9003465912914731 - learning rate: 0.5 - real_acc: 0.9426\n",
            "epoch 1 - loss: 0.013304191258327352 - val_acc: 0.9859330484330486 - acc: 0.9735513830002019 - learning rate: 0.45241870901797976 - real_acc: 0.9686\n",
            "epoch 2 - loss: 0.018565746728293017 - val_acc: 0.987335292022792 - acc: 0.9853287569823003 - learning rate: 0.4093653765389909 - real_acc: 0.9718\n",
            "epoch 3 - loss: 0.004711775490612962 - val_acc: 0.9875801282051282 - acc: 0.9916044148327613 - learning rate: 0.37040911034085894 - real_acc: 0.9757\n",
            "epoch 4 - loss: 0.0037583018967239975 - val_acc: 0.987758190883191 - acc: 0.9953563496870584 - learning rate: 0.33516002301781966 - real_acc: 0.9781\n",
            "epoch 5 - loss: 0.003515111978765865 - val_acc: 0.989383012820513 - acc: 0.9977959485833502 - learning rate: 0.3032653298563167 - real_acc: 0.9785\n",
            "epoch 6 - loss: 0.002737904144104586 - val_acc: 0.9895833333333335 - acc: 0.9990409852614577 - learning rate: 0.2744058180470132 - real_acc: 0.9795\n",
            "epoch 7 - loss: 0.001670989869687198 - val_acc: 0.9895833333333335 - acc: 0.9994952554007672 - learning rate: 0.24829265189570474 - real_acc: 0.98\n",
            "epoch 8 - loss: 0.0012766382710832844 - val_acc: 0.9895833333333335 - acc: 0.9997476277003836 - learning rate: 0.22466448205861078 - real_acc: 0.9798\n",
            "epoch 9 - loss: 0.0011352564007269105 - val_acc: 0.9895833333333335 - acc: 0.9998822262601791 - learning rate: 0.20328482987029955 - real_acc: 0.98\n",
            "epoch 10 - loss: 0.0010041988428821141 - val_acc: 0.9895833333333335 - acc: 0.9999158759001279 - learning rate: 0.18393972058572117 - real_acc: 0.9799\n",
            "epoch 11 - loss: 0.0009344947139551484 - val_acc: 0.9895833333333335 - acc: 0.9999495255400768 - learning rate: 0.16643554184903978 - real_acc: 0.9801\n",
            "epoch 12 - loss: 0.0008864537047715091 - val_acc: 0.9895833333333335 - acc: 0.9999831751800256 - learning rate: 0.150597105956101 - real_acc: 0.9803\n",
            "epoch 13 - loss: 0.0008538271837777259 - val_acc: 0.9895833333333335 - acc: 0.9999831751800256 - learning rate: 0.1362658965170063 - real_acc: 0.9804\n",
            "epoch 14 - loss: 0.0008221901839943476 - val_acc: 0.9895833333333335 - acc: 0.9999831751800256 - learning rate: 0.12329848197080322 - real_acc: 0.9809\n",
            "epoch 15 - loss: 0.0008034391607160305 - val_acc: 0.9895833333333335 - acc: 0.9999831751800256 - learning rate: 0.11156508007421491 - real_acc: 0.9814\n",
            "epoch 16 - loss: 0.0007934900351703061 - val_acc: 0.9895833333333335 - acc: 0.9999831751800256 - learning rate: 0.10094825899732769 - real_acc: 0.9811\n",
            "epoch 17 - loss: 0.0007758885434492379 - val_acc: 0.9895833333333335 - acc: 0.9999831751800256 - learning rate: 0.0913417620263673 - real_acc: 0.981\n",
            "epoch 18 - loss: 0.0007622106192563501 - val_acc: 0.9895833333333335 - acc: 0.9999831751800256 - learning rate: 0.08264944411079327 - real_acc: 0.9808\n",
            "epoch 19 - loss: 0.0007507497770737135 - val_acc: 0.9895833333333335 - acc: 0.9999831751800256 - learning rate: 0.07478430961131752 - real_acc: 0.981\n",
            "epoch 20 - loss: 0.0007375620531089534 - val_acc: 0.9895833333333335 - acc: 0.9999831751800256 - learning rate: 0.06766764161830635 - real_acc: 0.9812\n",
            "epoch 21 - loss: 0.0007240910640888298 - val_acc: 0.9895833333333335 - acc: 1.0 - learning rate: 0.06122821412649095 - real_acc: 0.9813\n",
            "epoch 22 - loss: 0.0007099661136468816 - val_acc: 0.9895833333333335 - acc: 1.0 - learning rate: 0.055401579181166935 - real_acc: 0.9813\n",
            "epoch 23 - loss: 0.0006963876995229116 - val_acc: 0.9895833333333335 - acc: 1.0 - learning rate: 0.05012942186140185 - real_acc: 0.9813\n",
            "epoch 24 - loss: 0.0006821643641384922 - val_acc: 0.9895833333333335 - acc: 1.0 - learning rate: 0.045358976644706235 - real_acc: 0.9816\n"
          ]
        }
      ]
    },
    {
      "cell_type": "code",
      "source": [
        "acc_list = model.acc_array\n",
        "val_acc_list = model.val_array\n",
        "plt.plot(range(Num_epoches), acc_list, color = \"red\", label = \"Training accuracy\")\n",
        "plt.plot(range(Num_epoches), val_acc_list, color = \"blue\", label = \"Training val_accuracy\")"
      ],
      "metadata": {
        "id": "KkwXDU4BRekc",
        "colab": {
          "base_uri": "https://localhost:8080/",
          "height": 283
        },
        "outputId": "482f2334-023b-4683-e96c-f017b26a9922"
      },
      "execution_count": 407,
      "outputs": [
        {
          "output_type": "execute_result",
          "data": {
            "text/plain": [
              "[<matplotlib.lines.Line2D at 0x7efe68e0d810>]"
            ]
          },
          "metadata": {},
          "execution_count": 407
        },
        {
          "output_type": "display_data",
          "data": {
            "text/plain": [
              "<Figure size 432x288 with 1 Axes>"
            ],
            "image/png": "[encoded data removed]"
          },
          "metadata": {
            "needs_background": "light"
          }
        }
      ]
    },
    {
      "cell_type": "code",
      "source": [
        "test = model.predict(testX)\n",
        "print(test.shape)"
      ],
      "metadata": {
        "id": "Oil9kUavFduy",
        "colab": {
          "base_uri": "https://localhost:8080/"
        },
        "outputId": "c07a550e-7d96-431a-9aa4-2d987532e166"
      },
      "execution_count": 408,
      "outputs": [
        {
          "output_type": "stream",
          "name": "stdout",
          "text": [
            "(10000, 10)\n"
          ]
        }
      ]
    },
    {
      "cell_type": "code",
      "source": [
        "test_result = np.asarray([test[i].argmax() for i in range(len(test))])"
      ],
      "metadata": {
        "id": "xPQsuSku2SPj"
      },
      "execution_count": 409,
      "outputs": []
    },
    {
      "cell_type": "code",
      "source": [
        "print(test_result)\n",
        "print(test_y)"
      ],
      "metadata": {
        "id": "4RSltGrc2uXP",
        "colab": {
          "base_uri": "https://localhost:8080/"
        },
        "outputId": "2d46546c-188f-47d5-a96e-de49be18656a"
      },
      "execution_count": 410,
      "outputs": [
        {
          "output_type": "stream",
          "name": "stdout",
          "text": [
            "[7 2 1 ... 4 5 6]\n",
            "[7 2 1 ... 4 5 6]\n"
          ]
        }
      ]
    },
    {
      "cell_type": "code",
      "source": [
        "acc = np.mean(test_result == test_y)"
      ],
      "metadata": {
        "id": "HQyY-Pvk2wso"
      },
      "execution_count": 411,
      "outputs": []
    },
    {
      "cell_type": "code",
      "source": [
        "print(acc)"
      ],
      "metadata": {
        "id": "GkjF7CM-3Emk",
        "colab": {
          "base_uri": "https://localhost:8080/"
        },
        "outputId": "998b0a74-6591-4511-959e-4097357a896d"
      },
      "execution_count": 412,
      "outputs": [
        {
          "output_type": "stream",
          "name": "stdout",
          "text": [
            "0.9816\n"
          ]
        }
      ]
    },
    {
      "cell_type": "code",
      "source": [
        "\"\"\"\n",
        "import cv2\n",
        "from google.colab.patches import cv2_imshow\n",
        "\"\"\""
      ],
      "metadata": {
        "id": "bMPFYh2MvMVo",
        "colab": {
          "base_uri": "https://localhost:8080/",
          "height": 36
        },
        "outputId": "62cfdd1e-5c01-4f6f-9d67-6c05558e04dc"
      },
      "execution_count": 413,
      "outputs": [
        {
          "output_type": "execute_result",
          "data": {
            "text/plain": [
              "'\\nimport cv2\\nfrom google.colab.patches import cv2_imshow\\n'"
            ],
            "application/vnd.google.colaboratory.intrinsic+json": {
              "type": "string"
            }
          },
          "metadata": {},
          "execution_count": 413
        }
      ]
    },
    {
      "cell_type": "code",
      "source": [
        "\"\"\"\"\n",
        "image = cv2.imread(\"/content/7.2.png\")\n",
        "cv2_i\n",
        "\"\"\""
      ],
      "metadata": {
        "id": "giwTt-J-p4D1",
        "colab": {
          "base_uri": "https://localhost:8080/",
          "height": 36
        },
        "outputId": "a859ec36-1551-4bb6-9036-7d66e0d43fe2"
      },
      "execution_count": 414,
      "outputs": [
        {
          "output_type": "execute_result",
          "data": {
            "text/plain": [
              "'\"\\nimage = cv2.imread(\"/content/7.2.png\")\\ncv2_i\\n'"
            ],
            "application/vnd.google.colaboratory.intrinsic+json": {
              "type": "string"
            }
          },
          "metadata": {},
          "execution_count": 414
        }
      ]
    },
    {
      "cell_type": "code",
      "source": [
        ""
      ],
      "metadata": {
        "id": "BEVodGtxqHcv"
      },
      "execution_count": 414,
      "outputs": []
    },
    {
      "cell_type": "code",
      "source": [
        "#imageB2G = cv2.cvtColor(image, cv2.COLOR_BGR2GRAY)"
      ],
      "metadata": {
        "id": "kEb6xw7Tq7Rr"
      },
      "execution_count": 415,
      "outputs": []
    },
    {
      "cell_type": "code",
      "source": [
        "#imageB2G"
      ],
      "metadata": {
        "id": "9FPWrS_Zq-vv"
      },
      "execution_count": 416,
      "outputs": []
    },
    {
      "cell_type": "code",
      "source": [
        "#img = np.asarray(imageB2G)\n",
        "#img[img>0] = 1"
      ],
      "metadata": {
        "id": "QvR--MKAsOD-"
      },
      "execution_count": 417,
      "outputs": []
    },
    {
      "cell_type": "code",
      "source": [
        "#imgArray = [img.flatten()]"
      ],
      "metadata": {
        "id": "EMwliFw0sdrH"
      },
      "execution_count": 418,
      "outputs": []
    },
    {
      "cell_type": "code",
      "source": [
        "#imgArray"
      ],
      "metadata": {
        "id": "lXbqYcA_seQl"
      },
      "execution_count": 419,
      "outputs": []
    },
    {
      "cell_type": "code",
      "source": [
        "\"\"\"\"\n",
        "PRED = model.predict(imgArray)\n",
        "print(\"Image: \")\n",
        "cv2_imshow(image)\n",
        "print(\"Prediction result: \", np.asarray(PRED).argmax())\n",
        "\"\"\""
      ],
      "metadata": {
        "id": "0AYvYYPItMUC",
        "colab": {
          "base_uri": "https://localhost:8080/",
          "height": 36
        },
        "outputId": "2ea553cc-3b3e-46b3-90b5-4331a73e9108"
      },
      "execution_count": 420,
      "outputs": [
        {
          "output_type": "execute_result",
          "data": {
            "text/plain": [
              "'\"\\nPRED = model.predict(imgArray)\\nprint(\"Image: \")\\ncv2_imshow(image)\\nprint(\"Prediction result: \", np.asarray(PRED).argmax())\\n'"
            ],
            "application/vnd.google.colaboratory.intrinsic+json": {
              "type": "string"
            }
          },
          "metadata": {},
          "execution_count": 420
        }
      ]
    },
    {
      "cell_type": "code",
      "source": [
        ""
      ],
      "metadata": {
        "id": "6j_IUNn5ttXi"
      },
      "execution_count": 420,
      "outputs": []
    }
  ]
}