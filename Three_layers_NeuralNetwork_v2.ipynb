{
  "nbformat": 4,
  "nbformat_minor": 0,
  "metadata": {
    "colab": {
      "name": "Three_layers_NeuralNetwork-v2.ipynb",
      "provenance": [],
      "collapsed_sections": [],
      "include_colab_link": true
    },
    "kernelspec": {
      "name": "python3",
      "display_name": "Python 3"
    },
    "language_info": {
      "name": "python"
    }
  },
  "cells": [
    {
      "cell_type": "markdown",
      "metadata": {
        "id": "view-in-github",
        "colab_type": "text"
      },
      "source": [
        "<a href=\"https://colab.research.google.com/github/LCCuong/LCCuong/blob/gh-pages/Three_layers_NeuralNetwork_v2.ipynb\" target=\"_parent\"><img src=\"https://colab.research.google.com/assets/colab-badge.svg\" alt=\"Open In Colab\"/></a>"
      ]
    },
    {
      "cell_type": "code",
      "execution_count": null,
      "metadata": {
        "id": "459DO-poQmxe"
      },
      "outputs": [],
      "source": [
        "import numpy as np\n",
        "import matplotlib as plt\n",
        "np.random.seed()"
      ]
    },
    {
      "cell_type": "markdown",
      "source": [
        "# **Tạo các activation functions**"
      ],
      "metadata": {
        "id": "9Pdmreuov7rP"
      }
    },
    {
      "cell_type": "code",
      "source": [
        "\n",
        "def sigmoid(s):\n",
        "  return 1/(1+np.exp(-s))\n",
        "\n",
        "def d_sigmoid(s):\n",
        "  return sigmoid(s)*(1 - sigmoid(s))\n",
        "\n",
        "print(\"sigmoid(s) =\", sigmoid(np.asarray([3, 7, 8])))\n",
        "print(\"d_sigmoid(s) = \", d_sigmoid(np.asarray([3, 7, 8])))\n",
        "\n",
        "#print(np.asarray([[1, 2], [3, 4], [5, 6]]).T + np.asarray([1, 2, 3]))\n",
        "#print(np.log(np.asarray([1, 2, 3])))\n",
        "l = [1, 2, 3, 4, 5, 6, 7, 8, 9, 10]\n",
        "print(l[5:])\n",
        "a = [i for i in range(5,3,-1)]\n",
        "print(a)"
      ],
      "metadata": {
        "colab": {
          "base_uri": "https://localhost:8080/"
        },
        "id": "_eBdVnqceEnk",
        "outputId": "05ca702b-f710-4160-fc34-b6b8e1a372dd"
      },
      "execution_count": null,
      "outputs": [
        {
          "output_type": "stream",
          "name": "stdout",
          "text": [
            "sigmoid(s) = [0.95257413 0.99908895 0.99966465]\n",
            "d_sigmoid(s) =  [0.04517666 0.00091022 0.00033524]\n",
            "[6, 7, 8, 9, 10]\n",
            "[5, 4]\n"
          ]
        }
      ]
    },
    {
      "cell_type": "code",
      "source": [
        "def tanh(x):\n",
        "  return (np.exp(x) - np.exp(-x))/(np.exp(x) + np.exp(-x))\n",
        "\n",
        "# tanh derivative\n",
        "def d_tanh(x):\n",
        "  return 1 - tanh(x) * tanh(x)"
      ],
      "metadata": {
        "id": "CxQLp84uHzU6"
      },
      "execution_count": null,
      "outputs": []
    },
    {
      "cell_type": "code",
      "source": [
        "def relu(s):\n",
        "  m = 0 + s\n",
        "  m[m < 0] = 0\n",
        "  return m\n",
        "\n",
        "def d_relu(s):\n",
        "  m = s + 0\n",
        "  m[m > 0] = 1\n",
        "  return m\n",
        "  \n",
        "print(relu(np.asarray([3,5,-1])))\n",
        "print(d_relu(np.asarray([3,5,-1])))"
      ],
      "metadata": {
        "colab": {
          "base_uri": "https://localhost:8080/"
        },
        "id": "g2F-udcBm2Br",
        "outputId": "2405c23f-4aa8-42ca-9a4f-3359e0a76243"
      },
      "execution_count": null,
      "outputs": [
        {
          "output_type": "stream",
          "name": "stdout",
          "text": [
            "[3 5 0]\n",
            "[ 1  1 -1]\n"
          ]
        }
      ]
    },
    {
      "cell_type": "code",
      "source": [
        "def softmax(s):\n",
        "  e_s = np.exp(s - np.max(s, axis = 1, keepdims = True))\n",
        "  result = e_s / e_s.sum(axis = 1, keepdims = True)\n",
        "  return result\n",
        "\n",
        "#print(softmax(np.asarray([3,5,-1])))"
      ],
      "metadata": {
        "id": "baJgKtC5p2nD"
      },
      "execution_count": null,
      "outputs": []
    },
    {
      "cell_type": "code",
      "source": [
        "def cross_entropy_loss(Ypred, Y): #FIX!!!\n",
        "  loss = np.asarray([np.sum(np.multiply(Y[i], np.log(Ypred[i] + 1e-9))) for i in range(Y.shape[0])])\n",
        "  return -np.mean(loss)"
      ],
      "metadata": {
        "id": "55vr4RMRCHRi"
      },
      "execution_count": null,
      "outputs": []
    },
    {
      "cell_type": "code",
      "source": [
        "class layer:\n",
        "  def __init__(self, input_size, output_size, activation = \"none\"):\n",
        "    self.input_size = input_size\n",
        "    self.output_size = output_size\n",
        "    if activation!=\"none\":\n",
        "      if activation == \"relu\":\n",
        "        self.activation = relu\n",
        "        self.derivative = d_relu\n",
        "      elif activation == \"softmax\":\n",
        "        self.activation = softmax\n",
        "        self.derivative = 0\n",
        "      elif activation == \"sigmoid\":\n",
        "        self.activation = sigmoid\n",
        "        self.derivative = d_sigmoid\n",
        "      elif activation == \"tanh\":\n",
        "        self.activation = tanh\n",
        "        self.derivative = d_tanh\n",
        "      else:\n",
        "        raise ValueError('Activation not found')\n",
        "      np.random.seed()\n",
        "      self.W = np.random.randn(self.input_size, self.output_size)/np.sqrt(self.input_size*self.output_size) # *0.01 should or shouldn't???\n",
        "      self.b = 1.0*np.zeros((self.output_size), dtype = np.uint8) # *0.01 should or shouldn't???\n",
        "    else:\n",
        "      self.activation = \"none\"\n",
        "      if (input_size!=output_size):\n",
        "        raise ValueError('Input layer must have the same input_size and output_size')\n",
        "    #print(self.W.type)\n",
        "  def __call__(self, input):\n",
        "    if self.activation != \"none\":\n",
        "      self.z = np.dot(input, self.W) + self.b\n",
        "      #self.z = self.W.T.dot(input) + self.b\n",
        "      self.a = self.activation(self.z)\n",
        "      return self.a\n",
        "    else:\n",
        "      self.a = self.z = input\n",
        "      return input"
      ],
      "metadata": {
        "id": "1Xl7PMSNQ0_x"
      },
      "execution_count": null,
      "outputs": []
    },
    {
      "cell_type": "code",
      "source": [
        "import math\n",
        "import random\n",
        "print(math.ceil(2.8))"
      ],
      "metadata": {
        "colab": {
          "base_uri": "https://localhost:8080/"
        },
        "id": "A4CA37Jf7Wmb",
        "outputId": "17a2b369-4fa3-418e-d58e-63aaf6a1e2e4"
      },
      "execution_count": null,
      "outputs": [
        {
          "output_type": "stream",
          "name": "stdout",
          "text": [
            "3\n"
          ]
        }
      ]
    },
    {
      "cell_type": "markdown",
      "source": [
        "# **3_layers_Network**"
      ],
      "metadata": {
        "id": "JfVFEucKxnOi"
      }
    },
    {
      "cell_type": "code",
      "source": [
        "class Neural_network:\n",
        "  def __init__(self, *args):\n",
        "    self.Number_Of_Layers = len(args)\n",
        "    self.L = []\n",
        "    #if len(args)!=3:\n",
        "     # raise ValueError(f'Number of layers must be 3')\n",
        "    for arg in args:\n",
        "      if len(self.L)!=0:\n",
        "        if arg.input_size != self.L[len(self.L)-1].output_size:\n",
        "          raise ValueError(f'input_size of layer {len(self.L)} must equal to output_size of layer {len(self.L)-1}')\n",
        "      self.L.append(arg)\n",
        "##########################################################################################################################\n",
        "  def FeedForward(self, input):\n",
        "    x = input\n",
        "    #print(x.shape)\n",
        "    for Layer in self.L:\n",
        "      x = Layer(x)\n",
        "    return x\n",
        "##########################################################################################################################\n",
        "  def Backpropagation(self, X, Y):\n",
        "    E = (self.L[self.Number_Of_Layers - 1].a - Y)/(self.L[self.Number_Of_Layers - 1].a.shape[0])\n",
        "    #print(\"hello:\", self.L[self.Number_Of_Layers - 2].a.shape[0])\n",
        "    delta_W = []\n",
        "    d_W = np.dot(self.L[self.Number_Of_Layers - 2].a.T, E)\n",
        "    delta_W.append(d_W)\n",
        "    delta_b = []\n",
        "    d_b = np.sum(E, axis = 0)\n",
        "    delta_b.append(d_b)\n",
        "    for i in range(self.Number_Of_Layers-2, 0, -1):\n",
        "      E = np.multiply(np.dot(E, self.L[i+1].W.T), self.L[i].derivative(self.L[i].z))\n",
        "      d_W = np.dot(self.L[i-1].a.T, E)\n",
        "      delta_W.insert(0,d_W)\n",
        "      d_b = np.sum(E, axis = 0)\n",
        "      delta_b.insert(0, d_b)\n",
        "\n",
        "    return delta_W, delta_b\n",
        "##########################################################################################################################\n",
        "  def lr_exp_decay(self, epoch, init_eta):\n",
        "      k = 0.1\n",
        "      return init_eta * math.exp(-k*epoch)\n",
        "##########################################################################################################################\n",
        "  def val(self, pred, truth):\n",
        "    pred_result = np.asarray([pred[i].argmax() for i in range(len(pred))])\n",
        "    truth_result = np.asarray([truth[i].argmax() for i in range(len(truth))])\n",
        "    return np.mean(pred_result == truth_result)\n",
        "#########################################################################################################################\n",
        "  def predict(self, X):\n",
        "    pred = self.FeedForward(X)\n",
        "    return pred\n",
        "##########################################################################################################################\n",
        "  def fit(self, X, Y, epoches, eta, batch_size):\n",
        "    numberOfBatch = math.ceil(X.shape[0]/batch_size)\n",
        "    loss_array = []\n",
        "    lenLoss = 0\n",
        "    random.seed()\n",
        "    self.val_array = []\n",
        "    self.acc_array = []\n",
        "    LR = eta\n",
        "    for epoch in range(epoches):\n",
        "      loss = 0\n",
        "     # if (epoch+1)%10 == 0:\n",
        "      LR = self.lr_exp_decay(epoch, eta)\n",
        "      val_array = []\n",
        "      acc_array = []\n",
        "      for batch in range(numberOfBatch-1):\n",
        "        TrainX = X[batch*batch_size : (batch+1)*batch_size - 1]\n",
        "        TrainY = Y[batch*batch_size : (batch+1)*batch_size - 1]\n",
        "        TestX = X[(numberOfBatch - 1)*batch_size : ]\n",
        "        TestY = Y[(numberOfBatch - 1)*batch_size : ]\n",
        "        test_result = self.predict(TestX)\n",
        "        val_array.append(self.val(test_result, TestY))\n",
        "        ypred = self.FeedForward(TrainX)\n",
        "        acc_array.append(self.val(ypred, TrainY))\n",
        "        loss = cross_entropy_loss(ypred, TrainY)\n",
        "          #print(ypred[0][5], ypred[0].argmax())\n",
        "        (dW, db) = self.Backpropagation(TrainX, TrainY)\n",
        "        for i in range(1, self.Number_Of_Layers):\n",
        "          self.L[i].W += -LR*dW[i-1]\n",
        "          self.L[i].b += -LR*db[i-1]\n",
        "      val_acc = np.mean(np.asarray(val_array))\n",
        "      acc = np.mean(np.asarray(acc_array))\n",
        "      self.val_array.append(val_acc)\n",
        "      self.acc_array.append(acc)\n",
        "      print(f\"epoch {epoch} - loss: {loss} - val_acc: {val_acc} - acc: {acc} - learning rate: {LR}\")\n",
        "      dist = abs(val_acc - acc)\n",
        "      #if dist < 0.001 and epoch>=50:\n",
        "       # return\n",
        "##########################################################################################################################\n"
      ],
      "metadata": {
        "id": "Kgn3dvrZWZVT"
      },
      "execution_count": null,
      "outputs": []
    },
    {
      "cell_type": "code",
      "source": [
        "from keras.datasets import mnist\n",
        "(train_X, train_y), (test_X, test_y) = mnist.load_data()"
      ],
      "metadata": {
        "id": "tOOOZvHOycxa"
      },
      "execution_count": null,
      "outputs": []
    },
    {
      "cell_type": "code",
      "source": [
        "def to_one_hot(labels, dimension):\n",
        "  result =np.zeros((len(labels), dimension), dtype = np.uint8)\n",
        "  for i, label in enumerate(labels):\n",
        "    result[i, label] = 1\n",
        "  return np.asarray(result)\n",
        "  "
      ],
      "metadata": {
        "id": "gqAK5MOCCYIp"
      },
      "execution_count": null,
      "outputs": []
    },
    {
      "cell_type": "code",
      "source": [
        "print('X_train: ' + str(train_X.shape))\n",
        "print('Y_train: ' + str(train_y.shape))\n",
        "print('X_test:  '  + str(test_X.shape))\n",
        "print('Y_test:  '  + str(test_y.shape))\n",
        "train_X[train_X>0] = 1\n",
        "test_X[test_X>0] = 1\n",
        "train_size = train_X.shape[0]\n",
        "test_size = test_X.shape[0]\n",
        "#-----------------------------------------------------------------------\n",
        "trainX = np.asarray([train_X[i].flatten() for i in range(train_size)])\n",
        "testX = np.asarray([test_X[i].flatten() for i in range(test_size)])\n",
        "#-----------------------------------------------------------------------\n",
        "trainY = to_one_hot(train_y, 10)\n",
        "testY = to_one_hot(test_y, 10)\n",
        "print(trainY.shape)"
      ],
      "metadata": {
        "colab": {
          "base_uri": "https://localhost:8080/"
        },
        "id": "MphmIZn76lpt",
        "outputId": "56e61e4e-ae61-4092-abed-8705f8c949de"
      },
      "execution_count": null,
      "outputs": [
        {
          "output_type": "stream",
          "name": "stdout",
          "text": [
            "X_train: (60000, 28, 28)\n",
            "Y_train: (60000,)\n",
            "X_test:  (10000, 28, 28)\n",
            "Y_test:  (10000,)\n",
            "(60000, 10)\n"
          ]
        }
      ]
    },
    {
      "cell_type": "code",
      "source": [
        "from matplotlib import pyplot\n",
        "import matplotlib.pyplot as plt\n",
        "for i in range(9):  \n",
        "  pyplot.subplot(330 + 1 + i)\n",
        "  pyplot.imshow(train_X[i])#, cmap=pyplot.get_cmap('gray'))\n",
        "  pyplot.show()"
      ],
      "metadata": {
        "colab": {
          "base_uri": "https://localhost:8080/",
          "height": 899
        },
        "id": "Q7dDQiop7shk",
        "outputId": "79080de5-a17d-47f5-d8be-9e7f1a67752b"
      },
      "execution_count": null,
      "outputs": [
        {
          "output_type": "display_data",
          "data": {
            "text/plain": [
              "<Figure size 432x288 with 1 Axes>"
            ],
            "image/png": "[encoded data removed]"
          },
          "metadata": {
            "needs_background": "light"
          }
        },
        {
          "output_type": "display_data",
          "data": {
            "text/plain": [
              "<Figure size 432x288 with 1 Axes>"
            ],
            "image/png": "[encoded data removed]"
          },
          "metadata": {
            "needs_background": "light"
          }
        },
        {
          "output_type": "display_data",
          "data": {
            "text/plain": [
              "<Figure size 432x288 with 1 Axes>"
            ],
            "image/png": "[encoded data removed]"
          },
          "metadata": {
            "needs_background": "light"
          }
        },
        {
          "output_type": "display_data",
          "data": {
            "text/plain": [
              "<Figure size 432x288 with 1 Axes>"
            ],
            "image/png": "[encoded data removed]"
          },
          "metadata": {
            "needs_background": "light"
          }
        },
        {
          "output_type": "display_data",
          "data": {
            "text/plain": [
              "<Figure size 432x288 with 1 Axes>"
            ],
            "image/png": "[encoded data removed]"
          },
          "metadata": {
            "needs_background": "light"
          }
        },
        {
          "output_type": "display_data",
          "data": {
            "text/plain": [
              "<Figure size 432x288 with 1 Axes>"
            ],
            "image/png": "[encoded data removed]"
          },
          "metadata": {
            "needs_background": "light"
          }
        },
        {
          "output_type": "display_data",
          "data": {
            "text/plain": [
              "<Figure size 432x288 with 1 Axes>"
            ],
            "image/png": "[encoded data removed]"
          },
          "metadata": {
            "needs_background": "light"
          }
        },
        {
          "output_type": "display_data",
          "data": {
            "text/plain": [
              "<Figure size 432x288 with 1 Axes>"
            ],
            "image/png": "[encoded data removed]"
          },
          "metadata": {
            "needs_background": "light"
          }
        },
        {
          "output_type": "display_data",
          "data": {
            "text/plain": [
              "<Figure size 432x288 with 1 Axes>"
            ],
            "image/png": "[encoded data removed]"
          },
          "metadata": {
            "needs_background": "light"
          }
        }
      ]
    },
    {
      "cell_type": "code",
      "source": [
        "model = Neural_network(\n",
        "    layer(input_size = 28*28, output_size = 28*28),\n",
        "    layer(input_size = 28*28, output_size = 1024, activation = \"relu\"),\n",
        "    #layer(input_size = 1024, output_size = 1024, activation = \"relu\"),\n",
        "    #layer(input_size = 1024, output_size = 1024, activation  = \"relu\"),\n",
        "    layer(input_size = 1024, output_size = 10, activation = \"softmax\")\n",
        ")\n",
        "Num_epoches = 20\n",
        "model.fit(trainX, trainY, epoches = Num_epoches, eta = 0.5, batch_size = 512)"
      ],
      "metadata": {
        "id": "ODzsMKLAJOhC",
        "colab": {
          "base_uri": "https://localhost:8080/"
        },
        "outputId": "c1fcb829-5703-4364-b320-151cd2c33190"
      },
      "execution_count": null,
      "outputs": [
        {
          "output_type": "stream",
          "name": "stdout",
          "text": [
            "epoch 0 - loss: 0.22060508615001997 - val_acc: 0.8141025641025641 - acc: 0.7952063157542609 - learning rate: 0.5\n",
            "epoch 1 - loss: 0.1669778265741686 - val_acc: 0.9602920227920227 - acc: 0.930101861608711 - learning rate: 0.45241870901797976\n",
            "epoch 2 - loss: 0.14613159156205052 - val_acc: 0.9859330484330483 - acc: 0.9478649204676602 - learning rate: 0.4093653765389909\n",
            "epoch 3 - loss: 0.13394133886592288 - val_acc: 0.9885149572649573 - acc: 0.9571980530884638 - learning rate: 0.37040911034085894\n",
            "epoch 4 - loss: 0.12580950146742204 - val_acc: 0.989227207977208 - acc: 0.9624500309431815 - learning rate: 0.33516002301781966\n",
            "epoch 5 - loss: 0.11907344065028376 - val_acc: 0.989494301994302 - acc: 0.9665646377975144 - learning rate: 0.3032653298563167\n",
            "epoch 6 - loss: 0.11301658535597975 - val_acc: 0.9895833333333334 - acc: 0.9690568183718867 - learning rate: 0.2744058180470132\n",
            "epoch 7 - loss: 0.10822743443757515 - val_acc: 0.9895833333333334 - acc: 0.9710806697108068 - learning rate: 0.24829265189570474\n",
            "epoch 8 - loss: 0.10434450004787725 - val_acc: 0.9895833333333334 - acc: 0.9729707126967402 - learning rate: 0.22466448205861078\n",
            "epoch 9 - loss: 0.10190744649790962 - val_acc: 0.9895833333333334 - acc: 0.9742753441383579 - learning rate: 0.20328482987029955\n",
            "epoch 10 - loss: 0.09976540477232004 - val_acc: 0.9895833333333334 - acc: 0.9755632495358525 - learning rate: 0.18393972058572117\n",
            "epoch 11 - loss: 0.09812453520189181 - val_acc: 0.9895833333333334 - acc: 0.976800976800977 - learning rate: 0.16643554184903978\n",
            "epoch 12 - loss: 0.09656249315158118 - val_acc: 0.9895833333333334 - acc: 0.9775703748306489 - learning rate: 0.150597105956101\n",
            "epoch 13 - loss: 0.09507791639607134 - val_acc: 0.9895833333333334 - acc: 0.9783732249485675 - learning rate: 0.1362658965170063\n",
            "epoch 14 - loss: 0.093692367883304 - val_acc: 0.9895833333333334 - acc: 0.9789753625370065 - learning rate: 0.12329848197080322\n",
            "epoch 15 - loss: 0.09233933471825541 - val_acc: 0.9895833333333334 - acc: 0.9795105959489522 - learning rate: 0.11156508007421491\n",
            "epoch 16 - loss: 0.09106102824576494 - val_acc: 0.9895833333333334 - acc: 0.9800123772726513 - learning rate: 0.10094825899732769\n",
            "epoch 17 - loss: 0.08998924652809272 - val_acc: 0.9895833333333334 - acc: 0.9802967200227475 - learning rate: 0.0913417620263673\n",
            "epoch 18 - loss: 0.08901881020535553 - val_acc: 0.9895833333333334 - acc: 0.9805476106845971 - learning rate: 0.08264944411079327\n",
            "epoch 19 - loss: 0.08814127765890906 - val_acc: 0.9895833333333334 - acc: 0.9808988576111864 - learning rate: 0.07478430961131752\n"
          ]
        }
      ]
    },
    {
      "cell_type": "code",
      "source": [
        "acc_list = model.acc_array\n",
        "val_acc_list = model.val_array\n",
        "plt.plot(range(Num_epoches), acc_list, color = \"red\", label = \"Training accuracy\")\n",
        "plt.plot(range(Num_epoches), val_acc_list, color = \"blue\", label = \"Training val_accuracy\")"
      ],
      "metadata": {
        "id": "KkwXDU4BRekc",
        "colab": {
          "base_uri": "https://localhost:8080/",
          "height": 283
        },
        "outputId": "2dced6f6-b534-4f68-83f4-1e9e17892f2a"
      },
      "execution_count": null,
      "outputs": [
        {
          "output_type": "execute_result",
          "data": {
            "text/plain": [
              "[<matplotlib.lines.Line2D at 0x7efffb2e8a90>]"
            ]
          },
          "metadata": {},
          "execution_count": 518
        },
        {
          "output_type": "display_data",
          "data": {
            "text/plain": [
              "<Figure size 432x288 with 1 Axes>"
            ],
            "image/png": "[encoded data removed]"
          },
          "metadata": {
            "needs_background": "light"
          }
        }
      ]
    },
    {
      "cell_type": "code",
      "source": [
        "test = model.predict(testX)\n",
        "print(test.shape)"
      ],
      "metadata": {
        "id": "Oil9kUavFduy",
        "colab": {
          "base_uri": "https://localhost:8080/"
        },
        "outputId": "ac5655f9-fb61-47f7-cf8d-6f1b3e1a1e4a"
      },
      "execution_count": null,
      "outputs": [
        {
          "output_type": "stream",
          "name": "stdout",
          "text": [
            "(10000, 10)\n"
          ]
        }
      ]
    },
    {
      "cell_type": "code",
      "source": [
        "test_result = np.asarray([test[i].argmax() for i in range(len(test))])"
      ],
      "metadata": {
        "id": "xPQsuSku2SPj"
      },
      "execution_count": null,
      "outputs": []
    },
    {
      "cell_type": "code",
      "source": [
        "print(test_result)\n",
        "print(test_y)"
      ],
      "metadata": {
        "id": "4RSltGrc2uXP",
        "colab": {
          "base_uri": "https://localhost:8080/"
        },
        "outputId": "d414e206-2b54-4c06-d575-f3d2ae73dcca"
      },
      "execution_count": null,
      "outputs": [
        {
          "output_type": "stream",
          "name": "stdout",
          "text": [
            "[7 2 1 ... 4 5 6]\n",
            "[7 2 1 ... 4 5 6]\n"
          ]
        }
      ]
    },
    {
      "cell_type": "code",
      "source": [
        "acc = np.mean(test_result == test_y)"
      ],
      "metadata": {
        "id": "HQyY-Pvk2wso"
      },
      "execution_count": null,
      "outputs": []
    },
    {
      "cell_type": "code",
      "source": [
        "print(acc)"
      ],
      "metadata": {
        "id": "GkjF7CM-3Emk",
        "colab": {
          "base_uri": "https://localhost:8080/"
        },
        "outputId": "2e10540b-e61f-42c9-a097-b26e4bd0eaf5"
      },
      "execution_count": null,
      "outputs": [
        {
          "output_type": "stream",
          "name": "stdout",
          "text": [
            "0.9739\n"
          ]
        }
      ]
    },
    {
      "cell_type": "code",
      "source": [
        "\"\"\"\n",
        "import cv2\n",
        "from google.colab.patches import cv2_imshow\n",
        "\"\"\""
      ],
      "metadata": {
        "id": "bMPFYh2MvMVo",
        "colab": {
          "base_uri": "https://localhost:8080/",
          "height": 36
        },
        "outputId": "347f53c9-aa8d-4580-e78e-a593043b77fe"
      },
      "execution_count": null,
      "outputs": [
        {
          "output_type": "execute_result",
          "data": {
            "text/plain": [
              "'\\nimport cv2\\nfrom google.colab.patches import cv2_imshow\\n'"
            ],
            "application/vnd.google.colaboratory.intrinsic+json": {
              "type": "string"
            }
          },
          "metadata": {},
          "execution_count": 524
        }
      ]
    },
    {
      "cell_type": "code",
      "source": [
        "\"\"\"\"\n",
        "image = cv2.imread(\"/content/7.2.png\")\n",
        "cv2_i\n",
        "\"\"\""
      ],
      "metadata": {
        "id": "giwTt-J-p4D1",
        "colab": {
          "base_uri": "https://localhost:8080/",
          "height": 36
        },
        "outputId": "e746c40b-7262-4e72-a54c-b3ba1b810a1f"
      },
      "execution_count": null,
      "outputs": [
        {
          "output_type": "execute_result",
          "data": {
            "text/plain": [
              "'\"\\nimage = cv2.imread(\"/content/7.2.png\")\\ncv2_i\\n'"
            ],
            "application/vnd.google.colaboratory.intrinsic+json": {
              "type": "string"
            }
          },
          "metadata": {},
          "execution_count": 525
        }
      ]
    },
    {
      "cell_type": "code",
      "source": [
        ""
      ],
      "metadata": {
        "id": "BEVodGtxqHcv"
      },
      "execution_count": null,
      "outputs": []
    },
    {
      "cell_type": "code",
      "source": [
        "#imageB2G = cv2.cvtColor(image, cv2.COLOR_BGR2GRAY)"
      ],
      "metadata": {
        "id": "kEb6xw7Tq7Rr"
      },
      "execution_count": null,
      "outputs": []
    },
    {
      "cell_type": "code",
      "source": [
        "#imageB2G"
      ],
      "metadata": {
        "id": "9FPWrS_Zq-vv"
      },
      "execution_count": null,
      "outputs": []
    },
    {
      "cell_type": "code",
      "source": [
        "#img = np.asarray(imageB2G)\n",
        "#img[img>0] = 1"
      ],
      "metadata": {
        "id": "QvR--MKAsOD-"
      },
      "execution_count": null,
      "outputs": []
    },
    {
      "cell_type": "code",
      "source": [
        "#imgArray = [img.flatten()]"
      ],
      "metadata": {
        "id": "EMwliFw0sdrH"
      },
      "execution_count": null,
      "outputs": []
    },
    {
      "cell_type": "code",
      "source": [
        "#imgArray"
      ],
      "metadata": {
        "id": "lXbqYcA_seQl"
      },
      "execution_count": null,
      "outputs": []
    },
    {
      "cell_type": "code",
      "source": [
        "\"\"\"\"\n",
        "PRED = model.predict(imgArray)\n",
        "print(\"Image: \")\n",
        "cv2_imshow(image)\n",
        "print(\"Prediction result: \", np.asarray(PRED).argmax())\n",
        "\"\"\""
      ],
      "metadata": {
        "id": "0AYvYYPItMUC",
        "colab": {
          "base_uri": "https://localhost:8080/",
          "height": 36
        },
        "outputId": "19b785f3-2e91-4a9f-e0c0-dee0285cf01d"
      },
      "execution_count": null,
      "outputs": [
        {
          "output_type": "execute_result",
          "data": {
            "text/plain": [
              "'\"\\nPRED = model.predict(imgArray)\\nprint(\"Image: \")\\ncv2_imshow(image)\\nprint(\"Prediction result: \", np.asarray(PRED).argmax())\\n'"
            ],
            "application/vnd.google.colaboratory.intrinsic+json": {
              "type": "string"
            }
          },
          "metadata": {},
          "execution_count": 531
        }
      ]
    },
    {
      "cell_type": "code",
      "source": [
        ""
      ],
      "metadata": {
        "id": "6j_IUNn5ttXi"
      },
      "execution_count": null,
      "outputs": []
    }
  ]
}